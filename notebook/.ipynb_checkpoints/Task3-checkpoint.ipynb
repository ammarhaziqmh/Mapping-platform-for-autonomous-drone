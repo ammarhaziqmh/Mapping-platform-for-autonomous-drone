{
 "cells": [
  {
   "cell_type": "markdown",
   "id": "852f4f0c-b9ff-49eb-9714-56679c53a47b",
   "metadata": {},
   "source": [
    "# Task 3"
   ]
  },
  {
   "cell_type": "markdown",
   "id": "402a419b-d876-4f98-b931-bab3d490e9a2",
   "metadata": {},
   "source": [
    "In this task, we will experiment with vector maps. The target of the this exercise is to achieve the following:\n",
    "    1. Add and removing elements to an existing vector map.\n",
    "    2. Creating a new layer/ vector map\n",
    "    3. Updating attributes of vector elements"
   ]
  },
  {
   "cell_type": "markdown",
   "id": "9debc139-29ff-4f69-9444-42d585c3a460",
   "metadata": {},
   "source": [
    "### 0.Setup"
   ]
  },
  {
   "cell_type": "code",
   "execution_count": 1,
   "id": "d218c87a-b6bb-4bf6-af56-909587d42b8d",
   "metadata": {
    "tags": []
   },
   "outputs": [],
   "source": [
    "# Import Python standard library and IPython packages we need.\n",
    "import os\n",
    "import sys\n",
    "import subprocess\n",
    "from IPython.display import Image\n",
    "\n",
    "# Ask GRASS GIS where its Python packages are.\n",
    "grass_call = \"grass82\"\n",
    "sys.path.append(\n",
    "    subprocess.check_output([grass_call, \"--config\", \"python_path\"], text=True, shell=True).strip()\n",
    ")\n",
    "\n",
    "# Import the GRASS GIS packages we need.\n",
    "import grass.script as gs\n",
    "import grass.jupyter as gj\n",
    "\n",
    "# Create a GRASS GIS session.\n",
    "session = gj.init(\"C:/Users/Ammar Haziq/Documents/Mapping-platform-for-autonomous-drone/grassdata/ExperimentField\")"
   ]
  },
  {
   "cell_type": "markdown",
   "id": "6d56ad9f-aeee-4365-b046-e195e70402c6",
   "metadata": {},
   "source": [
    "### 1. Creating a new vector map"
   ]
  },
  {
   "cell_type": "markdown",
   "id": "75ae3c46-1f43-4a0a-a66e-642e99ace664",
   "metadata": {},
   "source": [
    "Since there exists a good example in the documentation, we will start with creating a new vector map called 'plants' to simulate a field containing some plants."
   ]
  },
  {
   "cell_type": "code",
   "execution_count": 2,
   "id": "d5c73391-310e-401b-b93f-8c12dd7086be",
   "metadata": {
    "tags": []
   },
   "outputs": [],
   "source": [
    "#imports\n",
    "from grass.pygrass.vector import VectorTopo"
   ]
  },
  {
   "cell_type": "code",
   "execution_count": 3,
   "id": "43d86af9-af29-4d6e-9825-60549776ec61",
   "metadata": {
    "tags": []
   },
   "outputs": [
    {
     "data": {
      "text/plain": [
       "False"
      ]
     },
     "execution_count": 3,
     "metadata": {},
     "output_type": "execute_result"
    }
   ],
   "source": [
    "new = VectorTopo('plants') #Create a new object containing vector map called plants\n",
    "new.exist() #check wether it exists or not"
   ]
  },
  {
   "cell_type": "code",
   "execution_count": 4,
   "id": "9fb9ef81-7000-44d5-9e62-888c639a6b23",
   "metadata": {
    "tags": []
   },
   "outputs": [],
   "source": [
    "#Create some colomn tabs \n",
    "cols = [(u'cat', 'INTEGER PRIMARY KEY'), (u'uniqId', 'INTEGER'), (u'type', 'TEXT'), (u'status', 'TEXT')]"
   ]
  },
  {
   "cell_type": "code",
   "execution_count": 5,
   "id": "24430985-f9bb-4015-ae5b-b77828e106f0",
   "metadata": {
    "tags": []
   },
   "outputs": [],
   "source": [
    "new.open('w', tab_name='plants', tab_cols=cols)"
   ]
  },
  {
   "cell_type": "code",
   "execution_count": 6,
   "id": "cacc3606-fc00-408d-a690-bc54a48723fa",
   "metadata": {
    "tags": []
   },
   "outputs": [],
   "source": [
    "#imports\n",
    "from grass.pygrass.vector.geometry import Point"
   ]
  },
  {
   "cell_type": "code",
   "execution_count": 7,
   "id": "97bfd772-5fe5-4b76-96b2-38bafd635709",
   "metadata": {
    "tags": []
   },
   "outputs": [],
   "source": [
    "point0 = Point(6.738534033960874,50.828755188670414)\n",
    "point1 = Point(6.740996162242023,50.82805936980835)\n",
    "point2 = Point(6.738551875470158,50.826748018876)\n",
    "point3 = Point(6.735768600021902,50.826899671704915)\n",
    "point4 = Point(6.73831993584947,50.827604411321616)"
   ]
  },
  {
   "cell_type": "code",
   "execution_count": 8,
   "id": "315abdb3-a1ae-47ff-9fb6-520d033b3f69",
   "metadata": {
    "tags": []
   },
   "outputs": [],
   "source": [
    "new.write(point0, cat=1, attrs=('0011','Sugar Beet', 'Healthy'))\n",
    "new.write(point1, cat=2, attrs=('0012','Sugar Beet', 'Healthy'))\n",
    "new.write(point2, cat=3, attrs=('0013','Sugar Beet', 'unHealthy'))\n",
    "new.write(point3, cat=4, attrs=('0024','Potatoe', 'Healthy'))\n",
    "new.write(point4, cat=5, attrs=('0035','Weed', 'unHealthy'))"
   ]
  },
  {
   "cell_type": "code",
   "execution_count": 9,
   "id": "c9be050b-f47f-489e-87a5-50a3c2967ad0",
   "metadata": {
    "tags": []
   },
   "outputs": [
    {
     "data": {
      "text/plain": [
       "[(1, 11, 'Sugar Beet', 'Healthy'),\n",
       " (2, 12, 'Sugar Beet', 'Healthy'),\n",
       " (3, 13, 'Sugar Beet', 'unHealthy'),\n",
       " (4, 24, 'Potatoe', 'Healthy'),\n",
       " (5, 35, 'Weed', 'unHealthy')]"
      ]
     },
     "execution_count": 9,
     "metadata": {},
     "output_type": "execute_result"
    }
   ],
   "source": [
    "new.table.conn.commit()\n",
    "new.table.execute().fetchall()"
   ]
  },
  {
   "cell_type": "code",
   "execution_count": 10,
   "id": "2005e3ad-5c6f-4764-ae72-e8a778893709",
   "metadata": {
    "tags": []
   },
   "outputs": [
    {
     "data": {
      "text/plain": [
       "True"
      ]
     },
     "execution_count": 10,
     "metadata": {},
     "output_type": "execute_result"
    }
   ],
   "source": [
    "new.close()\n",
    "new.exist()"
   ]
  },
  {
   "cell_type": "markdown",
   "id": "84a6a412-42a1-44b2-b907-1f0cb02c1100",
   "metadata": {},
   "source": [
    "#### 1.1 Testing out filter"
   ]
  },
  {
   "cell_type": "markdown",
   "id": "32d8d663-6c5e-41db-9b65-4bbc95183b4a",
   "metadata": {},
   "source": [
    "Now we can test out the filter we created based on the previous notebook. For the purpose of demonstration, we will request a query of only unhealthy plants in the field"
   ]
  },
  {
   "cell_type": "code",
   "execution_count": 11,
   "id": "539e92c8-81a3-48d2-9303-3fa4806235d0",
   "metadata": {
    "tags": []
   },
   "outputs": [
    {
     "data": {
      "text/plain": [
       "False"
      ]
     },
     "execution_count": 11,
     "metadata": {},
     "output_type": "execute_result"
    }
   ],
   "source": [
    "new.is_open()"
   ]
  },
  {
   "cell_type": "code",
   "execution_count": 12,
   "id": "53b67706-8c9b-48d9-875b-caea006e33d5",
   "metadata": {
    "tags": []
   },
   "outputs": [],
   "source": [
    "new.open(mode='r')"
   ]
  },
  {
   "cell_type": "code",
   "execution_count": 13,
   "id": "0dcbe1bd-e514-4f61-85bc-aed79feaae90",
   "metadata": {
    "tags": []
   },
   "outputs": [],
   "source": [
    "pointsList = []\n",
    "for i in range(len(new)):\n",
    "  pointsList.append(new.read(i+1))"
   ]
  },
  {
   "cell_type": "code",
   "execution_count": 14,
   "id": "0383570d-ccbd-4afc-8d5d-55c02cb79a48",
   "metadata": {
    "tags": []
   },
   "outputs": [],
   "source": [
    "import numpy as np"
   ]
  },
  {
   "cell_type": "code",
   "execution_count": 15,
   "id": "2690d2c3-5264-463a-92fb-a41173a0412c",
   "metadata": {
    "tags": []
   },
   "outputs": [],
   "source": [
    "coords = []\n",
    "for i in range(len(new)):\n",
    "  coords.append(new.read(i+1).coords()) # gives a tuple\n",
    "coords = np.array(coords)"
   ]
  },
  {
   "cell_type": "code",
   "execution_count": 16,
   "id": "8c35b738-b4a8-4210-be7a-f64ed5e18a5b",
   "metadata": {
    "tags": []
   },
   "outputs": [
    {
     "name": "stdout",
     "output_type": "stream",
     "text": [
      "[ 6.73855188 50.82674802]\n",
      "[ 6.73831994 50.82760441]\n",
      "2\n"
     ]
    }
   ],
   "source": [
    "listOfunHealthy = []\n",
    "for i in range(len(coords)):\n",
    "    if gs.vector.vector_db_select('plants', columns = 'status')['values'][i+1][0] == \"unHealthy\" :\n",
    "        print(coords[i])\n",
    "        listOfunHealthy.append(coords[i])\n",
    "    \n",
    "print(len(listOfunHealthy))"
   ]
  },
  {
   "cell_type": "code",
   "execution_count": 17,
   "id": "da39ebd0-aebb-493f-b579-635909e6a5fc",
   "metadata": {
    "tags": []
   },
   "outputs": [],
   "source": [
    "new.close()"
   ]
  },
  {
   "cell_type": "markdown",
   "id": "d9d1ca76-e3e4-459f-80a1-c16efd059bef",
   "metadata": {},
   "source": [
    "### 2. Updating attributes"
   ]
  },
  {
   "cell_type": "markdown",
   "id": "b7e287a0-a679-4ddb-ab90-782cb1568cde",
   "metadata": {},
   "source": [
    "Now, let us try and update some attributes of vector elements"
   ]
  },
  {
   "cell_type": "code",
   "execution_count": null,
   "id": "7a965253-7e89-4012-bc12-c1b3dbc05d80",
   "metadata": {},
   "outputs": [],
   "source": []
  }
 ],
 "metadata": {
  "kernelspec": {
   "display_name": "Python 3 (ipykernel)",
   "language": "python",
   "name": "python3"
  },
  "language_info": {
   "codemirror_mode": {
    "name": "ipython",
    "version": 3
   },
   "file_extension": ".py",
   "mimetype": "text/x-python",
   "name": "python",
   "nbconvert_exporter": "python",
   "pygments_lexer": "ipython3",
   "version": "3.9.5"
  }
 },
 "nbformat": 4,
 "nbformat_minor": 5
}
