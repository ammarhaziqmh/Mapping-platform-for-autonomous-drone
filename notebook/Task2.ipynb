{
 "cells": [
  {
   "cell_type": "markdown",
   "id": "11c28e3d-8808-42a3-89a7-2222a9a84771",
   "metadata": {},
   "source": [
    "# Task 2"
   ]
  },
  {
   "cell_type": "markdown",
   "id": "f50c7db5-9a22-45b2-b604-18bfb444bccc",
   "metadata": {
    "tags": []
   },
   "source": [
    "## 1. Applying filter"
   ]
  },
  {
   "cell_type": "markdown",
   "id": "313b5e3d-945e-40d5-ad64-ef3ad6ad108d",
   "metadata": {
    "tags": []
   },
   "source": [
    "## 1.1 Setup Environment"
   ]
  },
  {
   "cell_type": "code",
   "execution_count": 1,
   "id": "03328a26-2fc3-4ed7-b49d-64d1e5907186",
   "metadata": {
    "tags": []
   },
   "outputs": [],
   "source": [
    "# Import Python standard library and IPython packages we need.\n",
    "import os\n",
    "import sys\n",
    "import subprocess\n",
    "from IPython.display import Image\n",
    "\n",
    "# Ask GRASS GIS where its Python packages are.\n",
    "grass_call = \"grass82\"\n",
    "sys.path.append(\n",
    "    subprocess.check_output([grass_call, \"--config\", \"python_path\"], text=True, shell=True).strip()\n",
    ")\n",
    "\n",
    "# Import the GRASS GIS packages we need.\n",
    "import grass.script as gs\n",
    "import grass.jupyter as gj\n",
    "\n",
    "# Create a GRASS GIS session.\n",
    "session = gj.init(\"Documents/grassdata/nc_spm_08_grass7/PERMANENT\")"
   ]
  },
  {
   "cell_type": "code",
   "execution_count": 2,
   "id": "e12c4750-6b63-4044-a33b-9dd74a63abc3",
   "metadata": {
    "tags": []
   },
   "outputs": [],
   "source": [
    "gs.run_command(\"d.mon\", stop=\"png\")\n",
    "gs.run_command(\"d.mon\", start=\"png\")"
   ]
  },
  {
   "cell_type": "code",
   "execution_count": 3,
   "id": "a4253cad-9ecc-4288-b35e-c0752c8919c3",
   "metadata": {
    "tags": []
   },
   "outputs": [],
   "source": [
    "gs.run_command(\"d.rast\", map=\"elevation@PERMANENT\")\n",
    "gs.run_command(\"d.vect\", map=\"towers3@PERMANENT\")"
   ]
  },
  {
   "cell_type": "markdown",
   "id": "4ea8c3c3-6bb3-453c-ada3-323aa4906066",
   "metadata": {},
   "source": [
    "## 1.2 Query Elements"
   ]
  },
  {
   "cell_type": "code",
   "execution_count": 4,
   "id": "a09f7928-1eca-4b48-befe-870c765056eb",
   "metadata": {
    "tags": []
   },
   "outputs": [
    {
     "data": {
      "text/plain": [
       "{'East: 640648.16700611': None,\n",
       " 'North: 223056.00814664': None,\n",
       " '------------------------------------------------------------------': None,\n",
       " 'Map: towers3': None,\n",
       " 'Mapset: PERMANENT': None,\n",
       " 'Looking for features within: 1000000.000000': None,\n",
       " 'Id: 13': None,\n",
       " 'Type: Point': None,\n",
       " 'Left: 0': None,\n",
       " 'Right: 0': None,\n",
       " 'Layer: 1': None,\n",
       " 'Category: 13': None,\n",
       " 'Id: 12': None,\n",
       " 'Category: 12': None,\n",
       " 'Id: 6': None,\n",
       " 'Category: 6': None,\n",
       " 'Id: 15': None,\n",
       " 'Category: 15': None,\n",
       " 'Id: 9': None,\n",
       " 'Category: 9': None,\n",
       " 'Id: 10': None,\n",
       " 'Category: 10': None,\n",
       " 'Id: 4': None,\n",
       " 'Category: 4': None,\n",
       " 'Id: 8': None,\n",
       " 'Category: 8': None,\n",
       " 'Id: 1': None,\n",
       " 'Category: 1': None,\n",
       " 'Id: 5': None,\n",
       " 'Category: 5': None,\n",
       " 'Id: 14': None,\n",
       " 'Category: 14': None,\n",
       " 'Id: 3': None,\n",
       " 'Category: 3': None,\n",
       " 'Id: 7': None,\n",
       " 'Category: 7': None,\n",
       " 'Id: 16': None,\n",
       " 'Category: 16': None,\n",
       " 'Id: 11': None,\n",
       " 'Category: 11': None,\n",
       " 'Id: 2': None,\n",
       " 'Category: 2': None}"
      ]
     },
     "execution_count": 4,
     "metadata": {},
     "output_type": "execute_result"
    }
   ],
   "source": [
    "gs.parse_command(\"v.what\", map= \"towers3\", layer = \"-1\", coordinates= \"640648.16700611,223056.0081466395\", distance = \"1000000\", flags= \"md\")"
   ]
  },
  {
   "cell_type": "markdown",
   "id": "4819a09b-0248-422e-b7d0-8c83626f486d",
   "metadata": {},
   "source": [
    "## 1.3 Applying filter"
   ]
  },
  {
   "cell_type": "markdown",
   "id": "0f339930-6e7d-44f1-a10d-bb737d7c978b",
   "metadata": {},
   "source": [
    "Here we import related libraries for getting coordinates of vector points"
   ]
  },
  {
   "cell_type": "code",
   "execution_count": 5,
   "id": "498c01a1-d529-437f-9923-a12f70b8c2b5",
   "metadata": {
    "tags": []
   },
   "outputs": [],
   "source": [
    "from grass.pygrass import vector\n",
    "import numpy as np\n",
    "from matplotlib import pyplot as plt"
   ]
  },
  {
   "cell_type": "markdown",
   "id": "54ead681-bc15-4384-94c0-ad63c1309fc8",
   "metadata": {},
   "source": [
    "Next is the workflow for getting the coordinates of vector points in the map"
   ]
  },
  {
   "cell_type": "code",
   "execution_count": 6,
   "id": "dc7a16e8-fce7-40cf-acaf-0ad5fe68e6b6",
   "metadata": {
    "tags": []
   },
   "outputs": [],
   "source": [
    "data = vector.VectorTopo('towers3')"
   ]
  },
  {
   "cell_type": "code",
   "execution_count": 7,
   "id": "185ddd45-ca09-4941-901d-425bb551d3f8",
   "metadata": {
    "tags": []
   },
   "outputs": [],
   "source": [
    "data.open('r')"
   ]
  },
  {
   "cell_type": "code",
   "execution_count": 8,
   "id": "46f0fdca-2031-4169-a72e-4dc890b48851",
   "metadata": {
    "tags": []
   },
   "outputs": [],
   "source": [
    "pointsList = []\n",
    "for i in range(len(data)):\n",
    "  pointsList.append(data.read(i+1))"
   ]
  },
  {
   "cell_type": "code",
   "execution_count": 9,
   "id": "310cfdb6-5eec-4acf-aa07-cb66a4aaf861",
   "metadata": {
    "tags": []
   },
   "outputs": [],
   "source": [
    "coords = []\n",
    "for i in range(len(data)):\n",
    "  coords.append(data.read(i+1).coords()) # gives a tuple\n",
    "coords = np.array(coords)"
   ]
  },
  {
   "cell_type": "code",
   "execution_count": 10,
   "id": "6b34d596-6f6e-459b-8879-854025e6f722",
   "metadata": {
    "tags": []
   },
   "outputs": [
    {
     "name": "stdout",
     "output_type": "stream",
     "text": [
      "[634323.75380697 226093.31950305]\n",
      "[634338.5907074  226108.73753105]\n",
      "[638608.68332501 226264.12387222]\n",
      "[631181.50295589 226682.22534905]\n",
      "[631152.57445861 226766.39734046]\n",
      "[643578.31891752 226425.30690977]\n",
      "[634180.05465006 222852.41332593]\n",
      "[637278.43570433 223784.13069728]\n",
      "8\n"
     ]
    }
   ],
   "source": [
    "listOfCommTower = []\n",
    "for i in range(len(coords)):\n",
    "    if gs.vector.vector_db_select('towers3', columns = 'tower_type')['values'][i+1][0] == \"communication\" :\n",
    "        print(coords[i])\n",
    "        listOfCommTower.append(coords[i])\n",
    "    \n",
    "print(len(listOfCommTower))"
   ]
  },
  {
   "cell_type": "code",
   "execution_count": null,
   "id": "be9ba417-514d-4f5a-821f-29ecc6d4e0c9",
   "metadata": {},
   "outputs": [],
   "source": []
  }
 ],
 "metadata": {
  "kernelspec": {
   "display_name": "Python 3 (ipykernel)",
   "language": "python",
   "name": "python3"
  },
  "language_info": {
   "codemirror_mode": {
    "name": "ipython",
    "version": 3
   },
   "file_extension": ".py",
   "mimetype": "text/x-python",
   "name": "python",
   "nbconvert_exporter": "python",
   "pygments_lexer": "ipython3",
   "version": "3.9.5"
  }
 },
 "nbformat": 4,
 "nbformat_minor": 5
}
