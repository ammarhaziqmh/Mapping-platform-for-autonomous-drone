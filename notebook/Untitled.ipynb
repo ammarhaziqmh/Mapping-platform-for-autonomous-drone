{
 "cells": [
  {
   "cell_type": "code",
   "execution_count": null,
   "id": "50f5c456-07bb-4c5c-beb5-1dbc5539f325",
   "metadata": {
    "tags": []
   },
   "outputs": [],
   "source": [
    "import sys\n",
    "v = sys.version_info\n",
    "print(f\"We are using Python {v.major}.{v.minor}.{v.micro}\")"
   ]
  },
  {
   "cell_type": "code",
   "execution_count": null,
   "id": "8ff7ec35-8f23-46c9-b4a4-9231226a47ca",
   "metadata": {
    "tags": []
   },
   "outputs": [],
   "source": [
    "%%bash\n",
    "pwd"
   ]
  },
  {
   "cell_type": "code",
   "execution_count": null,
   "id": "e7d45a0a-06bf-4057-8694-1544e5668f5f",
   "metadata": {
    "tags": []
   },
   "outputs": [],
   "source": [
    "# Import Python standard library and IPython packages we need.\n",
    "import os\n",
    "import sys\n",
    "import subprocess\n",
    "from IPython.display import Image\n",
    "\n",
    "# Ask GRASS GIS where its Python packages are.\n",
    "grass_call = \"grass82\"\n",
    "sys.path.append(\n",
    "    subprocess.check_output([grass_call, \"--config\", \"python_path\"], text=True, shell=True).strip()\n",
    ")\n",
    "\n",
    "# Import the GRASS GIS packages we need.\n",
    "import grass.script as gs\n",
    "import grass.jupyter as gj\n",
    "\n",
    "# Create a GRASS GIS session.\n",
    "session = gj.init(\"Documents/grassdata/natural_earth_dataset/PERMANENT\")"
   ]
  },
  {
   "cell_type": "code",
   "execution_count": null,
   "id": "0d785aca-9600-4f10-a8fc-42dced4182be",
   "metadata": {
    "tags": []
   },
   "outputs": [],
   "source": [
    "path2file = r'C:/Program Files/GRASS GIS 8.2/'\n",
    "os.path.exists(path2file)"
   ]
  },
  {
   "cell_type": "code",
   "execution_count": null,
   "id": "bf08eea8-4faa-4b12-8fc8-cfc093f77e50",
   "metadata": {
    "tags": []
   },
   "outputs": [],
   "source": [
    "gs.run_command('g.region', flags='p')"
   ]
  },
  {
   "cell_type": "code",
   "execution_count": null,
   "id": "0fa5e48f-5601-4968-a5da-5dd124065057",
   "metadata": {
    "tags": []
   },
   "outputs": [],
   "source": [
    "%%bash\n",
    "\"C:/Program Files/GRASS GIS 8.2/grass82\""
   ]
  },
  {
   "cell_type": "code",
   "execution_count": null,
   "id": "554da925-f391-443c-b318-a543a02128c2",
   "metadata": {
    "tags": []
   },
   "outputs": [],
   "source": [
    "%%bash\n",
    "ls"
   ]
  },
  {
   "cell_type": "code",
   "execution_count": null,
   "id": "a341883f-ba6f-47b0-9660-f59363c7d0d7",
   "metadata": {
    "tags": []
   },
   "outputs": [],
   "source": [
    "%%bash\n",
    "grass -c EPSG:6346 -e ~/grassdata/dix_park/"
   ]
  },
  {
   "cell_type": "code",
   "execution_count": null,
   "id": "eccf8311-1b40-4096-894c-112b490dcc68",
   "metadata": {
    "tags": []
   },
   "outputs": [],
   "source": [
    "%%bash\n",
    "ls"
   ]
  },
  {
   "cell_type": "code",
   "execution_count": null,
   "id": "44b098d7-3ae3-4f59-9d5e-aaf64e5d1bcf",
   "metadata": {
    "tags": []
   },
   "outputs": [],
   "source": [
    "%%bash\n",
    "cd Documents/grassdata/natural_earth_dataset/PERMANENT\n",
    "ls"
   ]
  },
  {
   "cell_type": "code",
   "execution_count": null,
   "id": "b6d47a33-08f5-4cbe-9aa2-dd2b223056b3",
   "metadata": {},
   "outputs": [],
   "source": [
    "!r.import input=dsm.tif output=dsm resample=bilinear"
   ]
  },
  {
   "cell_type": "code",
   "execution_count": null,
   "id": "04067636-14a9-461b-a11d-91c392618989",
   "metadata": {},
   "outputs": [],
   "source": [
    "gs.run_command(\"r.import\", input=\"dsm.tif\", output=\"dsm\", resample=\"bilinear\")"
   ]
  },
  {
   "cell_type": "code",
   "execution_count": null,
   "id": "5a8a7d28-ded4-492c-8cc3-953d6b2b4e1a",
   "metadata": {},
   "outputs": [],
   "source": []
  }
 ],
 "metadata": {
  "kernelspec": {
   "display_name": "Python 3 (ipykernel)",
   "language": "python",
   "name": "python3"
  },
  "language_info": {
   "codemirror_mode": {
    "name": "ipython",
    "version": 3
   },
   "file_extension": ".py",
   "mimetype": "text/x-python",
   "name": "python",
   "nbconvert_exporter": "python",
   "pygments_lexer": "ipython3",
   "version": "3.9.5"
  }
 },
 "nbformat": 4,
 "nbformat_minor": 5
}
