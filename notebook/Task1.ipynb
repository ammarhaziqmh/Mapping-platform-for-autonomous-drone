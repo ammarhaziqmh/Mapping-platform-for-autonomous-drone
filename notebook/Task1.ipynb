{
 "cells": [
  {
   "cell_type": "markdown",
   "id": "eb0a8cb9-cdf5-4d01-8964-0602fd139d7e",
   "metadata": {},
   "source": [
    "## Task 1\n",
    "\n",
    "TODO:\n",
    "1. Query vector data\n",
    "2. Add vector data\n",
    "3. Remove vector data"
   ]
  },
  {
   "cell_type": "markdown",
   "id": "5b70c62d-fdc6-4372-86af-746b23a0b999",
   "metadata": {},
   "source": [
    "### 1.1 Query data\n",
    "\n",
    "First, we set up the environment and load the mapset"
   ]
  },
  {
   "cell_type": "code",
   "execution_count": 1,
   "id": "da2bf291-1de0-42b1-9279-519652b91eca",
   "metadata": {
    "tags": []
   },
   "outputs": [],
   "source": [
    "# Import Python standard library and IPython packages we need.\n",
    "import os\n",
    "import sys\n",
    "import subprocess\n",
    "from IPython.display import Image\n",
    "\n",
    "# Ask GRASS GIS where its Python packages are.\n",
    "grass_call = \"grass82\"\n",
    "sys.path.append(\n",
    "    subprocess.check_output([grass_call, \"--config\", \"python_path\"], text=True, shell=True).strip()\n",
    ")\n",
    "\n",
    "# Import the GRASS GIS packages we need.\n",
    "import grass.script as gs\n",
    "import grass.jupyter as gj\n",
    "\n",
    "# Create a GRASS GIS session.\n",
    "session = gj.init(\"Documents/grassdata/nc_spm_08_grass7/PERMANENT\")"
   ]
  },
  {
   "cell_type": "markdown",
   "id": "6fd20191-7485-4fee-b7c1-1bcf448cb393",
   "metadata": {},
   "source": [
    "Then, we import some data into the layers that we want to work with "
   ]
  },
  {
   "cell_type": "code",
   "execution_count": 2,
   "id": "4c26debf-aa4b-4cbb-b8f2-14489109cc47",
   "metadata": {
    "tags": []
   },
   "outputs": [],
   "source": [
    "gs.run_command(\"d.mon\", stop=\"png\")\n",
    "gs.run_command(\"d.mon\", start=\"png\")"
   ]
  },
  {
   "cell_type": "code",
   "execution_count": 3,
   "id": "1a2009a3-0878-4aaa-a4c7-9815ef00040d",
   "metadata": {
    "tags": []
   },
   "outputs": [],
   "source": [
    "gs.run_command(\"d.rast\", map=\"elevation@PERMANENT\")\n",
    "gs.run_command(\"d.vect\", map=\"towers@PERMANENT\")"
   ]
  },
  {
   "cell_type": "markdown",
   "id": "1595ba21-87e7-432a-ab55-7e5ab36f7e2b",
   "metadata": {},
   "source": [
    "After that we can (hopefully) query vector points with the cell below"
   ]
  },
  {
   "cell_type": "code",
   "execution_count": null,
   "id": "0c3b716c-2058-45c0-bf1c-71096343caaf",
   "metadata": {
    "tags": []
   },
   "outputs": [],
   "source": [
    "gs.parse_command(\"v.what\", map= \"towers\", layer = \"-1\", coordinates= \"640648.16700611,223056.0081466395\", distance = \"1000000\", flags=\"m\")"
   ]
  },
  {
   "cell_type": "markdown",
   "id": "60fe7447-ef41-458d-90da-98fd67261a2e",
   "metadata": {
    "tags": []
   },
   "source": [
    "### 2. Add/Remove vector data"
   ]
  },
  {
   "cell_type": "markdown",
   "id": "a981adfd-1c9f-4e42-a7cb-026e64db3ff6",
   "metadata": {},
   "source": [
    "Now we try and add a vector point to the map using v.edit at coord (east, north: 636688.900203666, 217886.9653767821)"
   ]
  },
  {
   "cell_type": "code",
   "execution_count": null,
   "id": "0a98cc71-26dc-4a5d-808b-7183c33671b6",
   "metadata": {
    "tags": []
   },
   "outputs": [],
   "source": [
    "gs.run_command(\"v.edit\",input=\"-\", map=\"towers\", type=\"point\", tool=\"add\", coords=\"632167.889267843,224288.16497615576\")"
   ]
  },
  {
   "cell_type": "markdown",
   "id": "dae9fea3-e168-4e91-a883-f620ce484648",
   "metadata": {},
   "source": [
    "lets visualise"
   ]
  },
  {
   "cell_type": "code",
   "execution_count": null,
   "id": "be59cdfd-5749-4c7b-8ad1-6c61dbfd5eef",
   "metadata": {
    "tags": []
   },
   "outputs": [],
   "source": [
    "gs.parse_command(\"v.what\", map= \"towers\", coordinates= \"640648.16700611,223056.0081466395\", distance = \"1000000\", flags=\"m\")"
   ]
  },
  {
   "cell_type": "code",
   "execution_count": null,
   "id": "4e1386b8-c4f3-4739-92d1-42349e6ba04c",
   "metadata": {
    "tags": []
   },
   "outputs": [],
   "source": [
    "# Create Map instance\n",
    "elevation_map = gj.Map()\n",
    "\n",
    "# Add a raster and vector to the map\n",
    "#elevation_map.d_rast(map=\"elevation\")\n",
    "elevation_map.d_vect(map=\"towers\")\n",
    "\n",
    "# Display map\n",
    "elevation_map.show()"
   ]
  },
  {
   "cell_type": "code",
   "execution_count": null,
   "id": "b11a4f46-720d-447a-b50d-d801549f8d33",
   "metadata": {
    "tags": []
   },
   "outputs": [],
   "source": [
    "gs.run_command(\"v.edit\",input=\"-\", map=\"towers\", type=\"point\", tool=\"delete\", coords=\"636716.3951120164, 225365.5804480652\")"
   ]
  },
  {
   "cell_type": "code",
   "execution_count": null,
   "id": "3d90057d-b5dd-49c3-8c32-a0ec1031350c",
   "metadata": {
    "tags": []
   },
   "outputs": [],
   "source": [
    "elevation_map.show()"
   ]
  },
  {
   "cell_type": "code",
   "execution_count": null,
   "id": "60df8c9b-dcdc-40d3-ac87-08bff35ba1fc",
   "metadata": {
    "tags": []
   },
   "outputs": [],
   "source": [
    "# Create Map instance\n",
    "elevation_map = gj.Map()\n",
    "\n",
    "# Add a raster and vector to the map\n",
    "#elevation_map.d_rast(map=\"elevation\")\n",
    "elevation_map.d_vect(map=\"towers\")\n",
    "\n",
    "# Display map\n",
    "elevation_map.show()"
   ]
  },
  {
   "cell_type": "code",
   "execution_count": null,
   "id": "20c666ea-b1ad-4e60-95c9-8bb6076c022f",
   "metadata": {
    "tags": []
   },
   "outputs": [],
   "source": [
    "am = gs.vector.vector_what(map='towers', coord= (640648.16700611,223056.0081466395), distance = \"1000000\", multiple = True)\n",
    "print(am)"
   ]
  },
  {
   "cell_type": "code",
   "execution_count": null,
   "id": "b553f58e-1d88-4301-9599-10a804ad53cb",
   "metadata": {
    "tags": []
   },
   "outputs": [],
   "source": [
    ">>> from grass.pygrass.vector import Vector\n",
    ">>> cens = Vector('towers')"
   ]
  },
  {
   "cell_type": "code",
   "execution_count": null,
   "id": "e42706de-7cee-48d4-901f-cad18aa2e67f",
   "metadata": {
    "tags": []
   },
   "outputs": [],
   "source": [
    "cens.mapset"
   ]
  },
  {
   "cell_type": "code",
   "execution_count": null,
   "id": "9679cadb-a727-46b5-aecf-25c5f79b60cd",
   "metadata": {},
   "outputs": [],
   "source": [
    "print (gs.vector.vector_db_select('towers')['columns'])"
   ]
  },
  {
   "cell_type": "code",
   "execution_count": null,
   "id": "a263d270-4321-4ffa-84bf-0340140d28a7",
   "metadata": {
    "tags": []
   },
   "outputs": [],
   "source": [
    "print (gs.vector.vector_db_select('towers', columns = 'tower_type')['values'])"
   ]
  },
  {
   "cell_type": "code",
   "execution_count": null,
   "id": "a5daa6b9-bd07-4b1d-a117-64ed48919e55",
   "metadata": {
    "tags": []
   },
   "outputs": [],
   "source": [
    "print(gs.vector.vector_db_select('towers', columns = 'tower_type')['values'][15][0] == \"communication\")"
   ]
  },
  {
   "cell_type": "code",
   "execution_count": null,
   "id": "7a785d03-f4d6-4921-a129-5c6a40f8a0b4",
   "metadata": {
    "tags": []
   },
   "outputs": [],
   "source": [
    "print(gs.vector.vector_db_select('towers', columns = 'tower_type')['values'][15][0])"
   ]
  },
  {
   "cell_type": "code",
   "execution_count": null,
   "id": "3d5f6221-e6b3-4c2d-a62a-95b97bdc4ac2",
   "metadata": {
    "tags": []
   },
   "outputs": [],
   "source": [
    "listOfCommTower = []\n",
    "for i in range(len(coords)):\n",
    "    if gs.vector.vector_db_select('towers', columns = 'tower_type')['values'][i+1][0] == \"communication\" :\n",
    "        print(coords[i])\n",
    "        listOfCommTower.append(coords[i])\n",
    "    \n",
    "print(len(listOfCommTower))\n",
    "    \n"
   ]
  },
  {
   "cell_type": "code",
   "execution_count": null,
   "id": "cfc033b2-e9f6-4836-a23e-f8e87d9af25d",
   "metadata": {
    "tags": []
   },
   "outputs": [],
   "source": [
    "print(len(gs.vector.vector_db_select('towers', columns = 'tower_type')['values']))"
   ]
  },
  {
   "cell_type": "code",
   "execution_count": null,
   "id": "6a9c427d-c1aa-4086-ab1c-b78dec0fe87b",
   "metadata": {
    "tags": []
   },
   "outputs": [],
   "source": [
    "print(gs.vector.vector_db_select('towers', columns = 'tower_type')['values'][16])"
   ]
  },
  {
   "cell_type": "code",
   "execution_count": null,
   "id": "18f6a1b0-c8e5-4b62-8fe0-fb003ea35c71",
   "metadata": {
    "tags": []
   },
   "outputs": [],
   "source": [
    "a = 1\n",
    "print(a == 1)"
   ]
  },
  {
   "cell_type": "code",
   "execution_count": 2,
   "id": "9d2679aa-28ac-4fda-bab9-e5b7148586ec",
   "metadata": {
    "tags": []
   },
   "outputs": [],
   "source": [
    "from grass.pygrass import vector\n",
    "import numpy as np\n",
    "from matplotlib import pyplot as plt"
   ]
  },
  {
   "cell_type": "code",
   "execution_count": 3,
   "id": "21469fad-0c54-4788-a506-e80f6ec0fab8",
   "metadata": {
    "tags": []
   },
   "outputs": [],
   "source": [
    "data = vector.VectorTopo('towers')"
   ]
  },
  {
   "cell_type": "code",
   "execution_count": null,
   "id": "39a2b84f-78e3-4ce2-bcaa-0cd03fe80f0d",
   "metadata": {
    "tags": []
   },
   "outputs": [],
   "source": [
    "data.open(\"r\")"
   ]
  },
  {
   "cell_type": "code",
   "execution_count": null,
   "id": "eeae8e8c-5688-47d1-b19a-d1654b9fe6fc",
   "metadata": {
    "tags": []
   },
   "outputs": [],
   "source": [
    "pointsList = []\n",
    "for i in range(len(data)):\n",
    "  pointsList.append(data.read(i+1))"
   ]
  },
  {
   "cell_type": "code",
   "execution_count": null,
   "id": "7efbbfe6-1026-41ec-a1bf-8a7c593d8249",
   "metadata": {
    "tags": []
   },
   "outputs": [],
   "source": [
    "coords = []\n",
    "for i in range(len(data)):\n",
    "  coords.append(data.read(i+1).coords()) # gives a tuple\n",
    "coords = np.array(coords)"
   ]
  },
  {
   "cell_type": "code",
   "execution_count": null,
   "id": "2067e8ad-fe95-40a6-9f11-6bf99e9fca09",
   "metadata": {
    "tags": []
   },
   "outputs": [],
   "source": [
    "plt.figure()\n",
    "plt.plot(coords[:,0], coords[:,1], 'ko')\n",
    "plt.show()"
   ]
  },
  {
   "cell_type": "code",
   "execution_count": null,
   "id": "28fc84e9-614b-4e3b-b421-8143121ad2cc",
   "metadata": {
    "tags": []
   },
   "outputs": [],
   "source": [
    "print(data)"
   ]
  },
  {
   "cell_type": "code",
   "execution_count": null,
   "id": "9713cf9d-d45c-430d-bab0-b07d5c55ec6c",
   "metadata": {
    "tags": []
   },
   "outputs": [],
   "source": [
    "print (coords)"
   ]
  },
  {
   "cell_type": "code",
   "execution_count": null,
   "id": "821fe567-f7f2-4063-bae6-f7940f72098c",
   "metadata": {
    "tags": []
   },
   "outputs": [],
   "source": [
    "for i in range(len(data)):\n",
    "    print(data.read(i+1))"
   ]
  },
  {
   "cell_type": "code",
   "execution_count": null,
   "id": "422f878f-14be-46bf-8a0c-d3507338c099",
   "metadata": {
    "tags": []
   },
   "outputs": [],
   "source": [
    "print(coords[16])"
   ]
  },
  {
   "cell_type": "code",
   "execution_count": null,
   "id": "1843f12e-04e8-41b4-9e2b-65e0d39e5d05",
   "metadata": {
    "tags": []
   },
   "outputs": [],
   "source": [
    "gs.vector.vector_info('towers')"
   ]
  },
  {
   "cell_type": "code",
   "execution_count": null,
   "id": "d91777d2-cffb-4be5-b5ee-77d77ccd9ae9",
   "metadata": {
    "tags": []
   },
   "outputs": [],
   "source": [
    "data.close()"
   ]
  },
  {
   "cell_type": "code",
   "execution_count": null,
   "id": "3fcd1c0b-c7e6-4fcc-9368-e69dd0d77aa1",
   "metadata": {
    "tags": []
   },
   "outputs": [],
   "source": [
    "data = vector.VectorTopo('bridges')"
   ]
  },
  {
   "cell_type": "code",
   "execution_count": null,
   "id": "4afbd339-cf8a-4f34-8a77-02dc45b1db77",
   "metadata": {
    "tags": []
   },
   "outputs": [],
   "source": [
    "data.exist()"
   ]
  },
  {
   "cell_type": "code",
   "execution_count": null,
   "id": "3214879b-f1a9-4c6b-bcf8-5765e953e945",
   "metadata": {
    "tags": []
   },
   "outputs": [],
   "source": [
    "data.open('r')"
   ]
  },
  {
   "cell_type": "code",
   "execution_count": null,
   "id": "f8d4d1b4-4ce9-4e9a-86eb-59f3778c55b3",
   "metadata": {},
   "outputs": [],
   "source": []
  },
  {
   "cell_type": "code",
   "execution_count": null,
   "id": "1b8145a6-be4f-4cde-aeff-0d0938f760a0",
   "metadata": {},
   "outputs": [],
   "source": []
  },
  {
   "cell_type": "code",
   "execution_count": null,
   "id": "80dad367-cea5-4c05-a7a9-e1c1f0acd8f1",
   "metadata": {},
   "outputs": [],
   "source": []
  },
  {
   "cell_type": "code",
   "execution_count": null,
   "id": "dcb96f4f-250d-4806-b91e-41b7a8913778",
   "metadata": {},
   "outputs": [],
   "source": []
  }
 ],
 "metadata": {
  "kernelspec": {
   "display_name": "Python 3 (ipykernel)",
   "language": "python",
   "name": "python3"
  },
  "language_info": {
   "codemirror_mode": {
    "name": "ipython",
    "version": 3
   },
   "file_extension": ".py",
   "mimetype": "text/x-python",
   "name": "python",
   "nbconvert_exporter": "python",
   "pygments_lexer": "ipython3",
   "version": "3.9.5"
  }
 },
 "nbformat": 4,
 "nbformat_minor": 5
}
